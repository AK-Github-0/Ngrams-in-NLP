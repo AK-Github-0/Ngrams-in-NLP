{
 "cells": [
  {
   "cell_type": "markdown",
   "id": "32c6c69d",
   "metadata": {},
   "source": [
    "## Writing unigrams, bigrams and trigrams from scratch"
   ]
  },
  {
   "cell_type": "markdown",
   "id": "8f7a3af9",
   "metadata": {},
   "source": [
    "Unigrams"
   ]
  },
  {
   "cell_type": "code",
   "execution_count": 40,
   "id": "0de6cdd3",
   "metadata": {},
   "outputs": [],
   "source": [
    "sentence = \"A quick brown fox jumps over the lazy dog A quick brown dog\""
   ]
  },
  {
   "cell_type": "code",
   "execution_count": 41,
   "id": "ef33ea09",
   "metadata": {},
   "outputs": [],
   "source": [
    "words = sentence.split(' ')"
   ]
  },
  {
   "cell_type": "code",
   "execution_count": 42,
   "id": "3e882d42",
   "metadata": {},
   "outputs": [
    {
     "name": "stdout",
     "output_type": "stream",
     "text": [
      "A :  2\n",
      "quick :  2\n",
      "brown :  2\n",
      "fox :  1\n",
      "jumps :  1\n",
      "over :  1\n",
      "the :  1\n",
      "lazy :  1\n",
      "dog :  2\n"
     ]
    },
    {
     "data": {
      "text/plain": [
       "{'A': 2,\n",
       " 'quick': 2,\n",
       " 'brown': 2,\n",
       " 'fox': 1,\n",
       " 'jumps': 1,\n",
       " 'over': 1,\n",
       " 'the': 1,\n",
       " 'lazy': 1,\n",
       " 'dog': 2}"
      ]
     },
     "execution_count": 42,
     "metadata": {},
     "output_type": "execute_result"
    }
   ],
   "source": [
    "freq = {}\n",
    "def CountFrequency(my_list):\n",
    "    for item in my_list:\n",
    "        if (item in freq):\n",
    "            freq[item] += 1\n",
    "        else:\n",
    "            freq[item] = 1\n",
    "    for key, value in freq.items():\n",
    "        print (\"% s : % d\"%(key, value))\n",
    "    return freq\n",
    "CountFrequency(words)"
   ]
  },
  {
   "cell_type": "code",
   "execution_count": 43,
   "id": "d79e78ab",
   "metadata": {},
   "outputs": [
    {
     "data": {
      "image/png": "[encoded data removed]",
      "text/plain": [
       "<Figure size 640x480 with 1 Axes>"
      ]
     },
     "metadata": {},
     "output_type": "display_data"
    }
   ],
   "source": [
    "import matplotlib.pylab as plt\n",
    "\n",
    "lists = sorted(freq.items()) # sorted by key, return a list of tuples\n",
    "\n",
    "x, y = zip(*lists) # unpack a list of pairs into two tuples\n",
    "\n",
    "plt.bar(x, y)\n",
    "plt.show()"
   ]
  },
  {
   "cell_type": "markdown",
   "id": "8fd07ae1",
   "metadata": {},
   "source": [
    "Bigrams"
   ]
  },
  {
   "cell_type": "code",
   "execution_count": 44,
   "id": "50b8bb79",
   "metadata": {},
   "outputs": [],
   "source": [
    "bigrams = []"
   ]
  },
  {
   "cell_type": "code",
   "execution_count": 45,
   "id": "d866d299",
   "metadata": {},
   "outputs": [],
   "source": [
    "for x in range(len(words)-1):\n",
    "    bigrams.append(words[x:x+2])"
   ]
  },
  {
   "cell_type": "code",
   "execution_count": 46,
   "id": "ecaaa536",
   "metadata": {},
   "outputs": [
    {
     "data": {
      "text/plain": [
       "[['A', 'quick'],\n",
       " ['quick', 'brown'],\n",
       " ['brown', 'fox'],\n",
       " ['fox', 'jumps'],\n",
       " ['jumps', 'over'],\n",
       " ['over', 'the'],\n",
       " ['the', 'lazy'],\n",
       " ['lazy', 'dog'],\n",
       " ['dog', 'A'],\n",
       " ['A', 'quick'],\n",
       " ['quick', 'brown'],\n",
       " ['brown', 'dog']]"
      ]
     },
     "execution_count": 46,
     "metadata": {},
     "output_type": "execute_result"
    }
   ],
   "source": [
    "bigrams"
   ]
  },
  {
   "cell_type": "markdown",
   "id": "f12aa10b",
   "metadata": {},
   "source": [
    "Trigrams"
   ]
  },
  {
   "cell_type": "code",
   "execution_count": 47,
   "id": "c99665a0",
   "metadata": {},
   "outputs": [],
   "source": [
    "trigrams = []"
   ]
  },
  {
   "cell_type": "code",
   "execution_count": 48,
   "id": "8890c686",
   "metadata": {},
   "outputs": [],
   "source": [
    "for x in range(len(words)-2):\n",
    "    trigrams.append(words[x:x+3])"
   ]
  },
  {
   "cell_type": "code",
   "execution_count": 49,
   "id": "3aaa48f1",
   "metadata": {},
   "outputs": [
    {
     "data": {
      "text/plain": [
       "[['A', 'quick', 'brown'],\n",
       " ['quick', 'brown', 'fox'],\n",
       " ['brown', 'fox', 'jumps'],\n",
       " ['fox', 'jumps', 'over'],\n",
       " ['jumps', 'over', 'the'],\n",
       " ['over', 'the', 'lazy'],\n",
       " ['the', 'lazy', 'dog'],\n",
       " ['lazy', 'dog', 'A'],\n",
       " ['dog', 'A', 'quick'],\n",
       " ['A', 'quick', 'brown'],\n",
       " ['quick', 'brown', 'dog']]"
      ]
     },
     "execution_count": 49,
     "metadata": {},
     "output_type": "execute_result"
    }
   ],
   "source": [
    "trigrams"
   ]
  },
  {
   "cell_type": "markdown",
   "id": "fda48596",
   "metadata": {},
   "source": [
    "## POS tagging\n"
   ]
  },
  {
   "cell_type": "code",
   "execution_count": 50,
   "id": "58ff91b4",
   "metadata": {},
   "outputs": [
    {
     "name": "stdout",
     "output_type": "stream",
     "text": [
      "After Split: ['A', 'quick', 'brown', 'fox', 'jumps', 'over', 'the', 'lazy', 'dog', 'A', 'quick', 'brown', 'dog']\n",
      "After Token: [('A', 'DT'), ('quick', 'JJ'), ('brown', 'NN'), ('fox', 'NN'), ('jumps', 'VBZ'), ('over', 'IN'), ('the', 'DT'), ('lazy', 'JJ'), ('dog', 'NN'), ('A', 'NNP'), ('quick', 'JJ'), ('brown', 'NN'), ('dog', 'NN')]\n"
     ]
    }
   ],
   "source": [
    "from nltk import pos_tag\n",
    "from nltk import RegexpParser\n",
    "text = words\n",
    "print(\"After Split:\",text)\n",
    "tokens_tag = pos_tag(text)\n",
    "print(\"After Token:\",tokens_tag)"
   ]
  },
  {
   "cell_type": "code",
   "execution_count": 51,
   "id": "15bf44a1",
   "metadata": {},
   "outputs": [
    {
     "name": "stdout",
     "output_type": "stream",
     "text": [
      "Counter({'NN': 5, 'DT': 3, 'JJ': 3, 'VBZ': 1, 'IN': 1})\n"
     ]
    }
   ],
   "source": [
    "from collections import Counter\n",
    "import nltk\n",
    "text = sentence\n",
    "lower_case = text.lower()\n",
    "tokens = nltk.word_tokenize(lower_case)\n",
    "tags = nltk.pos_tag(tokens)\n",
    "counts = Counter( tag for word,  tag in tags)\n",
    "print(counts)"
   ]
  },
  {
   "cell_type": "markdown",
   "id": "8029e1a0",
   "metadata": {},
   "source": [
    "## Plotting graphs of POS tags"
   ]
  },
  {
   "cell_type": "code",
   "execution_count": 52,
   "id": "28a8fa5d",
   "metadata": {},
   "outputs": [
    {
     "data": {
      "image/png": "[encoded data removed]",
      "text/plain": [
       "<Figure size 640x480 with 1 Axes>"
      ]
     },
     "metadata": {},
     "output_type": "display_data"
    }
   ],
   "source": [
    "lists = sorted(counts.items()) # sorted by key, return a list of tuples\n",
    "\n",
    "x, y = zip(*lists) # unpack a list of pairs into two tuples\n",
    "\n",
    "plt.bar(x, y)\n",
    "plt.show()"
   ]
  },
  {
   "cell_type": "code",
   "execution_count": 53,
   "id": "e839ca3d",
   "metadata": {},
   "outputs": [
    {
     "data": {
      "text/plain": [
       "{'quick': 6,\n",
       " 'brown': 0,\n",
       " 'fox': 2,\n",
       " 'jumps': 3,\n",
       " 'over': 5,\n",
       " 'the': 7,\n",
       " 'lazy': 4,\n",
       " 'dog': 1}"
      ]
     },
     "execution_count": 53,
     "metadata": {},
     "output_type": "execute_result"
    }
   ],
   "source": [
    "from sklearn.feature_extraction.text import CountVectorizer\n",
    "v = CountVectorizer()\n",
    "v.fit(['A quick brown fox jumps over the lazy dog A quick brown dog'])\n",
    "v.vocabulary_"
   ]
  },
  {
   "cell_type": "markdown",
   "id": "06b1bec6",
   "metadata": {},
   "source": [
    "## Loading corpus and applying all on it"
   ]
  },
  {
   "cell_type": "code",
   "execution_count": 54,
   "id": "1b9cd8ec",
   "metadata": {},
   "outputs": [],
   "source": [
    "from nltk.corpus import brown"
   ]
  },
  {
   "cell_type": "code",
   "execution_count": 55,
   "id": "8a18cfe3",
   "metadata": {},
   "outputs": [],
   "source": [
    "bw = brown.words()"
   ]
  },
  {
   "cell_type": "code",
   "execution_count": 56,
   "id": "3886ca05",
   "metadata": {},
   "outputs": [
    {
     "name": "stdout",
     "output_type": "stream",
     "text": [
      "After Split: ['The', 'Fulton', 'County', 'Grand', 'Jury', 'said', 'Friday', 'an', 'investigation', 'of', \"Atlanta's\", 'recent', 'primary', 'election', 'produced', '``', 'no', 'evidence', \"''\", 'that', 'any', 'irregularities', 'took', 'place', '.', 'The', 'jury', 'further', 'said', 'in', 'term-end', 'presentments']\n",
      "After Token: [('The', 'DT'), ('Fulton', 'NNP'), ('County', 'NNP'), ('Grand', 'NNP'), ('Jury', 'NNP'), ('said', 'VBD'), ('Friday', 'NNP'), ('an', 'DT'), ('investigation', 'NN'), ('of', 'IN'), (\"Atlanta's\", 'NNP'), ('recent', 'JJ'), ('primary', 'JJ'), ('election', 'NN'), ('produced', 'VBD'), ('``', '``'), ('no', 'DT'), ('evidence', 'NN'), (\"''\", \"''\"), ('that', 'IN'), ('any', 'DT'), ('irregularities', 'NNS'), ('took', 'VBD'), ('place', 'NN'), ('.', '.'), ('The', 'DT'), ('jury', 'NN'), ('further', 'RB'), ('said', 'VBD'), ('in', 'IN'), ('term-end', 'JJ'), ('presentments', 'NNS')]\n"
     ]
    }
   ],
   "source": [
    "from nltk import pos_tag\n",
    "from nltk import RegexpParser\n",
    "text = bw[:32]\n",
    "print(\"After Split:\",text)\n",
    "tokens_tag = pos_tag(text)\n",
    "print(\"After Token:\",tokens_tag)"
   ]
  },
  {
   "cell_type": "code",
   "execution_count": 57,
   "id": "3b449ef8",
   "metadata": {},
   "outputs": [
    {
     "name": "stdout",
     "output_type": "stream",
     "text": [
      "Counter({'NN': 16, 'JJ': 13, '``': 3, 'VBD': 2, '$': 1, \"''\": 1, 'NNP': 1, '.': 1})\n"
     ]
    }
   ],
   "source": [
    "from collections import Counter\n",
    "import nltk\n",
    "text = brown.raw()[:320]\n",
    "lower_case = text.lower()\n",
    "tokens = nltk.word_tokenize(lower_case)\n",
    "tags = nltk.pos_tag(tokens)\n",
    "counts = Counter( tag for word,  tag in tags)\n",
    "print(counts)"
   ]
  },
  {
   "cell_type": "code",
   "execution_count": 58,
   "id": "6f7ccedf",
   "metadata": {},
   "outputs": [
    {
     "data": {
      "image/png": "[encoded data removed]",
      "text/plain": [
       "<Figure size 640x480 with 1 Axes>"
      ]
     },
     "metadata": {},
     "output_type": "display_data"
    }
   ],
   "source": [
    "lists = sorted(counts.items()) # sorted by key, return a list of tuples\n",
    "\n",
    "x, y = zip(*lists) # unpack a list of pairs into two tuples\n",
    "\n",
    "plt.bar(x, y)\n",
    "plt.show()"
   ]
  },
  {
   "cell_type": "code",
   "execution_count": 59,
   "id": "e66a01cb",
   "metadata": {},
   "outputs": [
    {
     "data": {
      "text/plain": [
       "{'the': 25,\n",
       " 'fulton': 8,\n",
       " 'county': 3,\n",
       " 'grand': 10,\n",
       " 'jury': 14,\n",
       " 'said': 22,\n",
       " 'friday': 7,\n",
       " 'an': 0,\n",
       " 'investigation': 12,\n",
       " 'of': 16,\n",
       " 'atlanta': 2,\n",
       " 'recent': 21,\n",
       " 'primary': 19,\n",
       " 'election': 4,\n",
       " 'produced': 20,\n",
       " 'no': 15,\n",
       " 'evidence': 6,\n",
       " 'that': 24,\n",
       " 'any': 1,\n",
       " 'irregularities': 13,\n",
       " 'took': 26,\n",
       " 'place': 17,\n",
       " 'further': 9,\n",
       " 'in': 11,\n",
       " 'term': 23,\n",
       " 'end': 5,\n",
       " 'presentments': 18}"
      ]
     },
     "execution_count": 59,
     "metadata": {},
     "output_type": "execute_result"
    }
   ],
   "source": [
    "from sklearn.feature_extraction.text import CountVectorizer\n",
    "v = CountVectorizer()\n",
    "v.fit(brown.words()[:32])\n",
    "v.vocabulary_"
   ]
  },
  {
   "cell_type": "code",
   "execution_count": null,
   "id": "52da2fad",
   "metadata": {},
   "outputs": [],
   "source": []
  }
 ],
 "metadata": {
  "kernelspec": {
   "display_name": "Python 3 (ipykernel)",
   "language": "python",
   "name": "python3"
  },
  "language_info": {
   "codemirror_mode": {
    "name": "ipython",
    "version": 3
   },
   "file_extension": ".py",
   "mimetype": "text/x-python",
   "name": "python",
   "nbconvert_exporter": "python",
   "pygments_lexer": "ipython3",
   "version": "3.9.16"
  }
 },
 "nbformat": 4,
 "nbformat_minor": 5
}
